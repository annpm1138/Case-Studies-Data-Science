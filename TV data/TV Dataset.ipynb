{
 "cells": [
  {
   "cell_type": "code",
   "execution_count": 1,
   "id": "e778150f",
   "metadata": {},
   "outputs": [],
   "source": [
    "import numpy as np\n",
    "import pandas as pd\n",
    "import matplotlib.pyplot as plt\n",
    "import seaborn as sns\n",
    "%matplotlib inline"
   ]
  },
  {
   "cell_type": "code",
   "execution_count": 2,
   "id": "0a379013",
   "metadata": {},
   "outputs": [],
   "source": [
    "df = pd.read_excel(r'new.xlsx')"
   ]
  },
  {
   "cell_type": "code",
   "execution_count": 3,
   "id": "6e599d06",
   "metadata": {},
   "outputs": [
    {
     "data": {
      "text/html": [
       "<div>\n",
       "<style scoped>\n",
       "    .dataframe tbody tr th:only-of-type {\n",
       "        vertical-align: middle;\n",
       "    }\n",
       "\n",
       "    .dataframe tbody tr th {\n",
       "        vertical-align: top;\n",
       "    }\n",
       "\n",
       "    .dataframe thead th {\n",
       "        text-align: right;\n",
       "    }\n",
       "</style>\n",
       "<table border=\"1\" class=\"dataframe\">\n",
       "  <thead>\n",
       "    <tr style=\"text-align: right;\">\n",
       "      <th></th>\n",
       "      <th>Description</th>\n",
       "      <th>Date</th>\n",
       "      <th>Day of week</th>\n",
       "      <th>Start time</th>\n",
       "      <th>End time</th>\n",
       "      <th>Duration</th>\n",
       "      <th>Level 1</th>\n",
       "      <th>Level 2</th>\n",
       "      <th>Viewership</th>\n",
       "      <th>TV Rating</th>\n",
       "      <th>Share per</th>\n",
       "      <th>Reach</th>\n",
       "      <th>Reach per</th>\n",
       "      <th>ATS</th>\n",
       "    </tr>\n",
       "  </thead>\n",
       "  <tbody>\n",
       "    <tr>\n",
       "      <th>0</th>\n",
       "      <td>ONE CHAMPIONSHIP HEROES OF HONOR</td>\n",
       "      <td>02.01.2019</td>\n",
       "      <td>Wednesday</td>\n",
       "      <td>23:35:25</td>\n",
       "      <td>24:32:45</td>\n",
       "      <td>00:57:21</td>\n",
       "      <td>SPORTS - FOREIGN</td>\n",
       "      <td>SPORTS EVENTS</td>\n",
       "      <td>105314</td>\n",
       "      <td>0.12</td>\n",
       "      <td>4.23</td>\n",
       "      <td>222879</td>\n",
       "      <td>0.26</td>\n",
       "      <td>00:26:11</td>\n",
       "    </tr>\n",
       "    <tr>\n",
       "      <th>1</th>\n",
       "      <td>ONE CHAMPIONSHIP KINGDOM OF HEROES</td>\n",
       "      <td>03.01.2019</td>\n",
       "      <td>Thursday</td>\n",
       "      <td>23:41:59</td>\n",
       "      <td>24:07:13</td>\n",
       "      <td>00:25:15</td>\n",
       "      <td>SPORTS - FOREIGN</td>\n",
       "      <td>SPORTS EVENTS</td>\n",
       "      <td>42773</td>\n",
       "      <td>0.05</td>\n",
       "      <td>1.50</td>\n",
       "      <td>118072</td>\n",
       "      <td>0.14</td>\n",
       "      <td>00:09:09</td>\n",
       "    </tr>\n",
       "    <tr>\n",
       "      <th>2</th>\n",
       "      <td>ONE CHAMPIONSHIP WEEKLY</td>\n",
       "      <td>04.01.2019</td>\n",
       "      <td>Friday</td>\n",
       "      <td>23:36:19</td>\n",
       "      <td>24:01:30</td>\n",
       "      <td>00:25:12</td>\n",
       "      <td>SPORTS - FOREIGN</td>\n",
       "      <td>SPORTS MAGAZINES/TALKSHOWS</td>\n",
       "      <td>100563</td>\n",
       "      <td>0.12</td>\n",
       "      <td>2.49</td>\n",
       "      <td>194708</td>\n",
       "      <td>0.23</td>\n",
       "      <td>00:12:22</td>\n",
       "    </tr>\n",
       "    <tr>\n",
       "      <th>3</th>\n",
       "      <td>ONE CHAMPIONSHIP WEEKLY</td>\n",
       "      <td>05.01.2019</td>\n",
       "      <td>Saturday</td>\n",
       "      <td>23:14:39</td>\n",
       "      <td>23:39:55</td>\n",
       "      <td>00:25:17</td>\n",
       "      <td>SPORTS - FOREIGN</td>\n",
       "      <td>SPORTS MAGAZINES/TALKSHOWS</td>\n",
       "      <td>185606</td>\n",
       "      <td>0.21</td>\n",
       "      <td>2.45</td>\n",
       "      <td>430055</td>\n",
       "      <td>0.50</td>\n",
       "      <td>00:09:42</td>\n",
       "    </tr>\n",
       "    <tr>\n",
       "      <th>4</th>\n",
       "      <td>ONE CHAMPIONSHIP HEROES OF HONOR</td>\n",
       "      <td>05.01.2019</td>\n",
       "      <td>Saturday</td>\n",
       "      <td>23:40:01</td>\n",
       "      <td>24:32:31</td>\n",
       "      <td>00:52:31</td>\n",
       "      <td>SPORTS - FOREIGN</td>\n",
       "      <td>SPORTS EVENTS</td>\n",
       "      <td>213545</td>\n",
       "      <td>0.25</td>\n",
       "      <td>5.53</td>\n",
       "      <td>745148</td>\n",
       "      <td>0.86</td>\n",
       "      <td>00:15:03</td>\n",
       "    </tr>\n",
       "  </tbody>\n",
       "</table>\n",
       "</div>"
      ],
      "text/plain": [
       "                          Description        Date Day of week Start time  \\\n",
       "0    ONE CHAMPIONSHIP HEROES OF HONOR  02.01.2019   Wednesday   23:35:25   \n",
       "1  ONE CHAMPIONSHIP KINGDOM OF HEROES  03.01.2019    Thursday   23:41:59   \n",
       "2             ONE CHAMPIONSHIP WEEKLY  04.01.2019      Friday   23:36:19   \n",
       "3             ONE CHAMPIONSHIP WEEKLY  05.01.2019    Saturday   23:14:39   \n",
       "4    ONE CHAMPIONSHIP HEROES OF HONOR  05.01.2019    Saturday   23:40:01   \n",
       "\n",
       "   End time  Duration           Level 1                     Level 2  \\\n",
       "0  24:32:45  00:57:21  SPORTS - FOREIGN               SPORTS EVENTS   \n",
       "1  24:07:13  00:25:15  SPORTS - FOREIGN               SPORTS EVENTS   \n",
       "2  24:01:30  00:25:12  SPORTS - FOREIGN  SPORTS MAGAZINES/TALKSHOWS   \n",
       "3  23:39:55  00:25:17  SPORTS - FOREIGN  SPORTS MAGAZINES/TALKSHOWS   \n",
       "4  24:32:31  00:52:31  SPORTS - FOREIGN               SPORTS EVENTS   \n",
       "\n",
       "   Viewership  TV Rating  Share per   Reach  Reach per       ATS  \n",
       "0      105314       0.12       4.23  222879       0.26  00:26:11  \n",
       "1       42773       0.05       1.50  118072       0.14  00:09:09  \n",
       "2      100563       0.12       2.49  194708       0.23  00:12:22  \n",
       "3      185606       0.21       2.45  430055       0.50  00:09:42  \n",
       "4      213545       0.25       5.53  745148       0.86  00:15:03  "
      ]
     },
     "execution_count": 3,
     "metadata": {},
     "output_type": "execute_result"
    }
   ],
   "source": [
    "df.head()"
   ]
  },
  {
   "cell_type": "code",
   "execution_count": 4,
   "id": "bac75eb5",
   "metadata": {},
   "outputs": [
    {
     "data": {
      "text/plain": [
       "Description    0\n",
       "Date           0\n",
       "Day of week    0\n",
       "Start time     0\n",
       "End time       0\n",
       "Duration       0\n",
       "Level 1        0\n",
       "Level 2        0\n",
       "Viewership     0\n",
       "TV Rating      0\n",
       "Share per      0\n",
       "Reach          0\n",
       "Reach per      0\n",
       "ATS            0\n",
       "dtype: int64"
      ]
     },
     "execution_count": 4,
     "metadata": {},
     "output_type": "execute_result"
    }
   ],
   "source": [
    "df.isnull().sum()"
   ]
  },
  {
   "cell_type": "code",
   "execution_count": 5,
   "id": "a8990de7",
   "metadata": {},
   "outputs": [
    {
     "data": {
      "text/plain": [
       "<AxesSubplot:xlabel='Viewership', ylabel='Day of week'>"
      ]
     },
     "execution_count": 5,
     "metadata": {},
     "output_type": "execute_result"
    },
    {
     "data": {
      "image/png": "[encoded data removed]",
      "text/plain": [
       "<Figure size 432x288 with 1 Axes>"
      ]
     },
     "metadata": {
      "needs_background": "light"
     },
     "output_type": "display_data"
    }
   ],
   "source": [
    "sns.barplot(x='Viewership', y='Day of week', data=df)"
   ]
  },
  {
   "cell_type": "code",
   "execution_count": 6,
   "id": "0cecf6cc",
   "metadata": {},
   "outputs": [
    {
     "data": {
      "text/plain": [
       "array(['SPORTS - FOREIGN', 'SPORTS - LOCAL', 'ENTERTAINMENT - FOREIGN',\n",
       "       'INFORMATION - FOREIGN', 'LIGHT ENTERTAIN', 'SPORTS'], dtype=object)"
      ]
     },
     "execution_count": 6,
     "metadata": {},
     "output_type": "execute_result"
    }
   ],
   "source": [
    "df['Level 1'].unique()"
   ]
  },
  {
   "cell_type": "markdown",
   "id": "4de876e4",
   "metadata": {},
   "source": [
    "#### NOTE: Viewers ostly watch TV on Sunday"
   ]
  },
  {
   "cell_type": "code",
   "execution_count": 7,
   "id": "a2807a5d",
   "metadata": {},
   "outputs": [
    {
     "data": {
      "text/plain": [
       "<AxesSubplot:xlabel='Viewership', ylabel='Level 1'>"
      ]
     },
     "execution_count": 7,
     "metadata": {},
     "output_type": "execute_result"
    },
    {
     "data": {
      "image/png": "[encoded data removed]",
      "text/plain": [
       "<Figure size 432x288 with 1 Axes>"
      ]
     },
     "metadata": {
      "needs_background": "light"
     },
     "output_type": "display_data"
    }
   ],
   "source": [
    "sns.barplot(x='Viewership', y='Level 1', data=df)"
   ]
  },
  {
   "cell_type": "markdown",
   "id": "30555192",
   "metadata": {},
   "source": [
    "#### NOTE: Most of the viewers like to watch Local Sports"
   ]
  },
  {
   "cell_type": "code",
   "execution_count": 8,
   "id": "b9fb7b65",
   "metadata": {},
   "outputs": [
    {
     "data": {
      "text/plain": [
       "<AxesSubplot:xlabel='Viewership', ylabel='Level 2'>"
      ]
     },
     "execution_count": 8,
     "metadata": {},
     "output_type": "execute_result"
    },
    {
     "data": {
      "image/png": "[encoded data removed]",
      "text/plain": [
       "<Figure size 432x288 with 1 Axes>"
      ]
     },
     "metadata": {
      "needs_background": "light"
     },
     "output_type": "display_data"
    }
   ],
   "source": [
    "sns.barplot(x='Viewership', y='Level 2', data=df)"
   ]
  },
  {
   "cell_type": "markdown",
   "id": "ad4febe3",
   "metadata": {},
   "source": [
    "#### NOTE: Most Viewers like to watch Sports Events"
   ]
  },
  {
   "cell_type": "code",
   "execution_count": null,
   "id": "3d29a5ce",
   "metadata": {},
   "outputs": [],
   "source": []
  }
 ],
 "metadata": {
  "kernelspec": {
   "display_name": "Python 3",
   "language": "python",
   "name": "python3"
  },
  "language_info": {
   "codemirror_mode": {
    "name": "ipython",
    "version": 3
   },
   "file_extension": ".py",
   "mimetype": "text/x-python",
   "name": "python",
   "nbconvert_exporter": "python",
   "pygments_lexer": "ipython3",
   "version": "3.8.8"
  }
 },
 "nbformat": 4,
 "nbformat_minor": 5
}
